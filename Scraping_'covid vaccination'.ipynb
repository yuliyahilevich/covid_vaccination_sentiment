{
 "cells": [
  {
   "cell_type": "markdown",
   "id": "a2f03733",
   "metadata": {
    "toc": true
   },
   "source": [
    "<h1>Table of Contents<span class=\"tocSkip\"></span></h1>\n",
    "<div class=\"toc\"><ul class=\"toc-item\"><li><span><a href=\"#Import-libraries-and-create-datasets\" data-toc-modified-id=\"Import-libraries-and-create-datasets-1\"><span class=\"toc-item-num\">1&nbsp;&nbsp;</span>Import libraries and create datasets</a></span><ul class=\"toc-item\"><li><span><a href=\"#Tweet-scraping_1\" data-toc-modified-id=\"Tweet-scraping_1-1.1\"><span class=\"toc-item-num\">1.1&nbsp;&nbsp;</span>Tweet scraping_1</a></span></li><li><span><a href=\"#Tweet-scraping_2\" data-toc-modified-id=\"Tweet-scraping_2-1.2\"><span class=\"toc-item-num\">1.2&nbsp;&nbsp;</span>Tweet scraping_2</a></span></li></ul></li></ul></div>"
   ]
  },
  {
   "cell_type": "markdown",
   "id": "2af54603",
   "metadata": {},
   "source": [
    "# Import libraries and create datasets"
   ]
  },
  {
   "cell_type": "markdown",
   "id": "880f0284",
   "metadata": {},
   "source": [
    "## Tweet scraping_1 "
   ]
  },
  {
   "cell_type": "markdown",
   "id": "89267b74",
   "metadata": {},
   "source": [
    "In order to scrape the Tweets using snscrape module, you have to enter the #hashtag,the entry date and the final day of Tweets you wish to obtain. Also, you can add features such as language and like count, location. \n",
    "\n",
    "For this particular scrape, I have chosen the period from **2021.01.01 until 2010.06.30**"
   ]
  },
  {
   "cell_type": "code",
   "execution_count": null,
   "id": "9a53b1a7",
   "metadata": {},
   "outputs": [],
   "source": [
    "import snscrape.modules.twitter as sntwitter\n",
    "import os\n",
    "import pandas as pd\n",
    "\n",
    "# Creating list to append tweet data to\n",
    "tweets_list = []\n",
    "\n",
    "# Using TwitterSearchScraper to scrape data and append tweets to list\n",
    "for i,tweet in enumerate(sntwitter.TwitterSearchScraper('Covid vaccination since:2021-01-01 until:2021-06-30').get_items()):\n",
    "    if i>300000:\n",
    "        break\n",
    "    tweets_list.append([tweet.date, tweet.content, tweet.lang, tweet.likeCount])\n",
    "    \n",
    "# Creating a dataframe from the tweets list above\n",
    "tweets_df = pd.DataFrame(tweets_list, columns=['Datetime', 'Text', 'Lang', 'LikesCount'])"
   ]
  },
  {
   "cell_type": "code",
   "execution_count": null,
   "id": "8b2457a7",
   "metadata": {
    "scrolled": false
   },
   "outputs": [],
   "source": [
    "tweets_df.shape"
   ]
  },
  {
   "cell_type": "code",
   "execution_count": null,
   "id": "8de9d93a",
   "metadata": {
    "scrolled": true
   },
   "outputs": [],
   "source": [
    "tweets_df.head()"
   ]
  },
  {
   "cell_type": "code",
   "execution_count": null,
   "id": "2cfb0f07",
   "metadata": {},
   "outputs": [],
   "source": [
    "#tweets_df.to_csv('tweets_30.07.csv', sep=',', index=False)"
   ]
  },
  {
   "cell_type": "code",
   "execution_count": null,
   "id": "1f4e6a86",
   "metadata": {},
   "outputs": [],
   "source": [
    "tweets_df = pd.read_csv('../notebook/tweets_30.07.csv')\n",
    "tweets_df"
   ]
  },
  {
   "cell_type": "markdown",
   "id": "38467832",
   "metadata": {},
   "source": [
    "## Tweet scraping_2 "
   ]
  },
  {
   "cell_type": "markdown",
   "id": "7304c36c",
   "metadata": {},
   "source": [
    "Scraping tweets and creating dataset from **07.01 - 07.08.2021** for the future analysis"
   ]
  },
  {
   "cell_type": "code",
   "execution_count": null,
   "id": "d685cfc1",
   "metadata": {},
   "outputs": [],
   "source": [
    "import snscrape.modules.twitter as sntwitter\n",
    "import os\n",
    "import pandas as pd\n",
    "\n",
    "# Creating list to append tweet data to\n",
    "tweets_list1 = []\n",
    "\n",
    "# Using TwitterSearchScraper to scrape data and append tweets to list\n",
    "for i,tweet in enumerate(sntwitter.TwitterSearchScraper('Covid vaccination since:2021-07-01 until:2021-07-18').get_items()):\n",
    "    if i>200000:\n",
    "        break\n",
    "    tweets_list1.append([tweet.date, tweet.content, tweet.lang, tweet.likeCount])\n",
    "    \n",
    "# Creating a dataframe from the tweets list above\n",
    "tweets_df1 = pd.DataFrame(tweets_list1, columns=['Datetime', 'Text', 'Lang', 'LikesCount'])"
   ]
  },
  {
   "cell_type": "code",
   "execution_count": null,
   "id": "1082440d",
   "metadata": {},
   "outputs": [],
   "source": [
    "tweets_df1.shape"
   ]
  },
  {
   "cell_type": "code",
   "execution_count": null,
   "id": "f1dd59e0",
   "metadata": {},
   "outputs": [],
   "source": [
    "tweets_df1.head()"
   ]
  },
  {
   "cell_type": "code",
   "execution_count": null,
   "id": "2b060c71",
   "metadata": {},
   "outputs": [],
   "source": [
    "#tweets_df1.to_csv('tweets_18.07.csv', sep=',', index=False)"
   ]
  },
  {
   "cell_type": "code",
   "execution_count": null,
   "id": "10168d95",
   "metadata": {},
   "outputs": [],
   "source": [
    "tweets_df1 = pd.read_csv('../notebook/tweets_18.07.csv')\n",
    "tweets_df"
   ]
  }
 ],
 "metadata": {
  "hide_input": false,
  "kernelspec": {
   "display_name": "Python 3",
   "language": "python",
   "name": "python3"
  },
  "language_info": {
   "codemirror_mode": {
    "name": "ipython",
    "version": 3
   },
   "file_extension": ".py",
   "mimetype": "text/x-python",
   "name": "python",
   "nbconvert_exporter": "python",
   "pygments_lexer": "ipython3",
   "version": "3.9.4"
  },
  "toc": {
   "base_numbering": 1,
   "nav_menu": {},
   "number_sections": true,
   "sideBar": true,
   "skip_h1_title": false,
   "title_cell": "Table of Contents",
   "title_sidebar": "Contents",
   "toc_cell": true,
   "toc_position": {},
   "toc_section_display": true,
   "toc_window_display": false
  }
 },
 "nbformat": 4,
 "nbformat_minor": 5
}
